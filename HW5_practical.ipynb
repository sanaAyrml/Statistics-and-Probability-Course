{
 "cells": [
  {
   "cell_type": "markdown",
   "metadata": {},
   "source": [
    "<div style=\"direction:rtl;line-height:300%;\">\n",
    "\t<font face=\"XB Zar\" size=5>\n",
    "\t\t<div align=center>\n",
    "\t\t\t<font face=\"IranNastaliq\" size=30>\n",
    "\t\t\t\t<p></p>\n",
    "\t\t\t\t<p></p>\n",
    "به نام خدا\n",
    "\t\t\t\t<p></p>\n",
    "\t\t\t</font>\n",
    "\t\t\t<font color=#FF7500>\n",
    "دانشگاه صنعتی شریف - دانشکده مهندسی کامپیوتر\n",
    "            </font>\n",
    "\t\t\t<p></p>\n",
    "\t\t\t<font color=blue>\n",
    "آمار و احتمال مهندسی\n",
    "            </font>\n",
    "\t\t\t<br />\n",
    "\t\t\t<br />\n",
    "پاییز ۱۳۹۷\n",
    "\t\t</div>\n",
    "\t\t<hr/>\n",
    "\t\t<div align=center>\n",
    "\t\t    <font color=red size=6>\n",
    "\t\t\t    <br />\n",
    "تمرین عملی بخش پنجم\n",
    "            \t<br/>\n",
    "\t\t\t</font>\n",
    "                طراحان:\n",
    "                صدرا صفا دوست، شبنم شیخها، میلاد آقا جوهری\n",
    "\t\t\t<br/>\n",
    "            گردآوری: آیدا رمضانی\n",
    "            <br/><br/>\n",
    "                موعد تحویل:   \n",
    "                <br/>\n",
    "                همفکری در تمامی تمرین‌های درس توصیه می‌شود. در عین حال از شما خواسته می‌شود تا تمام پیاده‌سازی را به تنهایی و بدون مشاهده کد دیگران انجام دهید.\n",
    "                <br/><br/>\n",
    "                <font color=red>\n",
    "                لطفا در فایل ارسالی تمام بلوک‌های کد اجرا شده و شامل نمودار‌ها و خروجی‌های لازم باشند.\n",
    "     </font>\n",
    "                <br/>\n",
    "\t\t<br />\n",
    "\t\t<hr />\n",
    "\t\t<style type=\"text/css\" scoped>\n",
    "        p{\n",
    "        border: 1px solid #a2a9b1;background-color: #f8f9fa;display: inline-block;\n",
    "        };\n",
    "        </style>\n",
    "\t</font>\n",
    "</div>"
   ]
  },
  {
   "cell_type": "markdown",
   "metadata": {},
   "source": [
    "<div style=\"direction:rtl;line-height:300%;\">\n",
    "\t<font face=\"XB Zar\" size=5>\n",
    "\t\t<div align=center>\n",
    "\t\t\t\t<p></p>\n",
    "\t\t\t\t<p></p>\n",
    "                نام: ثنا آیرملو\n",
    "\t\t\t\t<br/>\n",
    "                شماره دانشجویی: ۹۶۱۰۱۲۸۴\n",
    "\t\t<br/>\n",
    "         لطفا در این قسمت نام تمامی افرادی که با آن‌ها همفکری کرده‌اید را ذکر نمایید:\n",
    "        </div>\n",
    "\t\t<br />\n",
    "\t\t<hr />\n",
    "\t\t<style type=\"text/css\" scoped>\n",
    "        p{\n",
    "        border: 1px solid #a2a9b1;background-color: #f8f9fa;display: inline-block;\n",
    "        };\n",
    "        </style>\n",
    "\t</font>\n",
    "</div>"
   ]
  },
  {
   "cell_type": "markdown",
   "metadata": {},
   "source": [
    "<div dir = \"rtl\" style=\"direction:rtl;line-height:300%;\">\n",
    "\t<font face=\"XB Zar\" size=5>\n",
    "\t\t<font color=#FF7500 size=6>\n",
    "            سوال اول\n",
    "        </font>\n",
    "        <hr/>\n",
    "        <div dir = \"rtl\" style=\"direction:rtl;line-height:300%;\">\n",
    "\t<font face=\"XB Zar\" size=5>\n",
    "        داده ی زیر مربوط به زمـــــان بیـــــــن کلیک های متـــــوالی در یک وبسایت است. می خواهیــــــم بـــــا اســــتفاده از \n",
    "        Chi-square goodness of fit test \n",
    "        ببینیم که آیا این داده ها از توزیع نمایی پیروی می کنند یا خیر.\n",
    "        برای اینکار داده ها را به 8 بازه تقسیم کنید و طول بازه ها را طوری تعیین کنید که احتمال همه بازه ها با هم برابر باشد.\n",
    "        فرض صفر خود را بیان کرده و با استفاده از آزمون فرض ذکر شده آن را بسنجید.\n",
    "   <br/>\n",
    "       راهنمایی: در بین توابع مربوط به توزیع های احتمالاتی،\n",
    "        خروجی آن دسته توابعی که نامشان\n",
    "        با\n",
    "        q\n",
    "        آغاز میشد، چه بود و چه کاری انجام میدادند؟\n",
    "   </font>\n",
    "</div>\n",
    "    </font>\n",
    "</div>"
   ]
  },
  {
   "cell_type": "code",
   "execution_count": 1,
   "metadata": {},
   "outputs": [],
   "source": [
    "click = c(79.919, 3.081, 0.062, 1.961, 5.845,\n",
    "        3.027, 6.505, 0.021, 0.013, 0.123,\n",
    "        6.769, 59.899, 1.192, 34.760, 5.009,\n",
    "        18.387, 0.141, 43.565, 24.420, 0.433,\n",
    "        144.695, 2.663, 17.967, 0.091, 9.003,\n",
    "        0.941, 0.878, 3.371, 2.157, 7.579,\n",
    "        0.625, 5.38, 3.148, 7.078, 23.960, \n",
    "        0.590, 1.928, 0.3, 0.002, 0.543, \n",
    "        7.004, 31.764, 1.005, 1.147, 0.219,\n",
    "        3.217, 14.382, 1.008, 2.336, 4.562)"
   ]
  },
  {
   "cell_type": "markdown",
   "metadata": {},
   "source": [
    "<div dir = \"rtl\" style=\"direction:rtl;line-height:300%;\">\n",
    "\t<font face=\"XB Zar\" size=5>\n",
    "        <hr/>\n",
    "پاسخ:\n",
    "        فرض صفر این است که نمونه ا از توزیع نمایی با لاندا mle پیروی می کنند٬ فرض دیگر این است که از توزیع نمایی پیروی نمی کند.\n",
    "        با توجه به کوچک بودن p-value می توان فرض صفر را رد کرد یعنی داده ها از توزیع نمایی پیروی نمی کنند\n",
    "    </font>\n",
    "</div>"
   ]
  },
  {
   "cell_type": "code",
   "execution_count": 2,
   "metadata": {},
   "outputs": [
    {
     "data": {
      "text/html": [
       "39.6"
      ],
      "text/latex": [
       "39.6"
      ],
      "text/markdown": [
       "39.6"
      ],
      "text/plain": [
       "[1] 39.6"
      ]
     },
     "metadata": {},
     "output_type": "display_data"
    },
    {
     "name": "stdout",
     "output_type": "stream",
     "text": [
      "[1] \"p value is : 5.45844072348607e-07\"\n"
     ]
    }
   ],
   "source": [
    "l = length(click)/(sum(click))\n",
    "samples =c ((1/8),(2/8),(3/8),(4/8),(5/8),(6/8),(7/8),(8/8))\n",
    "probabilities = qexp(samples, rate = l)\n",
    "probabilities=c(0,probabilities)\n",
    "e = length(click)*(1/8)\n",
    "o <- vector(\"numeric\",8)\n",
    "temp = 0\n",
    "findNum <- function(n,m,j){\n",
    "  temp = 0\n",
    "  for(i in 1:length(click)){\n",
    "    if(click[i]<m && click[i]>=n){\n",
    "      temp = temp +1\n",
    "    }\n",
    "  }\n",
    "  return(temp)\n",
    "}\n",
    "for(i in 1:8){\n",
    "  o[i]=findNum(probabilities[i],probabilities[i+1],i)\n",
    "}\n",
    "testStatistic = sum((o-e)^2/e)\n",
    "testStatistic\n",
    "pValue = pchisq(testStatistic, df=6, lower.tail = FALSE)\n",
    "print(paste0(\"p value is : \", pValue))"
   ]
  },
  {
   "cell_type": "markdown",
   "metadata": {},
   "source": [
    "<div dir = \"rtl\" style=\"direction:rtl;line-height:300%;\">\n",
    "\t<font face=\"XB Zar\" size=5>\n",
    "\t\t<font color=#FF7500 size=6>\n",
    "            سوال دوم\n",
    "        </font>\n",
    "        <div dir = \"rtl\" style=\"direction:rtl;line-height:300%;\">\n",
    "\t<font face=\"XB Zar\" size=5>\n",
    "                <hr/>\n",
    "        اعتماد به نخبگان برای حل بی‌آبی: حرفی برای گفتن داریم؟\n",
    "<br/>\n",
    "مدیران شهرداری تهران برای حل بی‌آبی برای اولین بار به این فکر افتاده‌اند که از دانشجویان شریف برای حل مشکل کم‌آبی کمک بگیرند. آن‌ها از یکی از دانشجویان به نام  جوهر خواسته‌اند که به آن‌ها در حل این مشکل کمک کنند.\n",
    "       جوهر در ابتدا می‌خواست تاثیر تبلیغات را بر مصرف آب بررسی کند.\n",
    "        تهران به ۲۲ منطقه‌ تقسیم می‌شود. او مصرف آب آن‌ها را در یک هفته محاسبه کرد و سپس دستور داد تا کل شهر تهران پر از بنرهای تبلیغاتی برای کاهش مصرف آب بشوند و سپس دوباره مصرف آب مردم در آن هفته را بررسی کرد.\n",
    "        آمار مصرف آب زیر \n",
    "       آمده‌ است. با انتخاب یک تست ناپارامتری از دو تست ناپارامتری درس داده شده به شما \n",
    "        به جوهر کمک کنید تا بفهمد تبلیغات موثر بوده‌اند یا خیر\n",
    "        .\n",
    "        <br/>\n",
    "        دقت کنید که عددها به ترتیب هستند. به این معنی که\n",
    "        $adless_{i}$ \n",
    "        میزان مصرف آب در منطقه‌ی \n",
    "        $i$\n",
    "        ام شهرداری تهران قبل از تبلیغات و \n",
    "        $adfull_{i}$\n",
    "        میزان مصرف آب در همان منطقه پس از انفجار تبلیغاتی است.\n",
    "   </font>\n",
    "</div>\n",
    "    </font>\n",
    "</div>"
   ]
  },
  {
   "cell_type": "code",
   "execution_count": 2,
   "metadata": {},
   "outputs": [],
   "source": [
    "adless = c(11, 9, 7.2 , 5.3, 20, 12.2, 6.1, 7.4, 21.3, 15.5, 14.4, 31, 23, 34, 26, 27, 15, 13.6 ,23.1, 22, 19, 13.1)\n",
    "adfull = c(12.1, 10, 6.7, 4, 14.5, 15.1, 3, 6, 13.3, 13.9, 13.2, 32, 14.7, 18.3, 18, 28, 14.25, 12.5, 21.2, 21, 19.5, 14)"
   ]
  },
  {
   "cell_type": "markdown",
   "metadata": {},
   "source": [
    "<div dir = \"rtl\" style=\"direction:rtl;line-height:300%;\">\n",
    "\t<font face=\"XB Zar\" size=5>\n",
    "        <hr/>\n",
    "پاسخ:\n",
    "        با توجه به p-value به دست آمده٬ توسط تست wilcoxon چون مقدار آن ۰.۰۱۴ است با اطمینان 95% میتوانیم فرض صفر را رد کنیم.\n",
    "    </font>\n",
    "</div>"
   ]
  },
  {
   "cell_type": "code",
   "execution_count": 3,
   "metadata": {},
   "outputs": [
    {
     "name": "stderr",
     "output_type": "stream",
     "text": [
      "Warning message in wilcox.test.default(useages$before, useages$after, paired = T):\n",
      "“cannot compute exact p-value with ties”"
     ]
    },
    {
     "data": {
      "text/plain": [
       "\n",
       "\tWilcoxon signed rank test with continuity correction\n",
       "\n",
       "data:  useages$before and useages$after\n",
       "V = 202.5, p-value = 0.01416\n",
       "alternative hypothesis: true location shift is not equal to 0\n"
      ]
     },
     "metadata": {},
     "output_type": "display_data"
    }
   ],
   "source": [
    "useages <- data.frame(before = adless, after = adfull)\n",
    "wilcox.test(useages$before, useages$after, paired = T)"
   ]
  },
  {
   "cell_type": "markdown",
   "metadata": {},
   "source": [
    "<div dir = \"rtl\" style=\"direction:rtl;line-height:300%;\">\n",
    "\t<font face=\"XB Zar\" size=5>\n",
    "\t\t<font color=#FF7500 size=6>\n",
    "            سوال سوم\n",
    "        </font>\n",
    "        <div dir = \"rtl\" style=\"direction:rtl;line-height:300%;\">\n",
    "\t<font face=\"XB Zar\" size=5>\n",
    "                <hr/>\n",
    "با اینکه نزدیک به ۴ سال تا جام جهانی مانده است، فرض کنید خیلی آینده‌نگر هستیم و دوست داریم در شرط‌بندی‌های مربوط به آن شرکت کنیم. \n",
    "        <br>\n",
    "        کمتر کسی است که اسم \n",
    "        <a href=\"https://en.wikipedia.org/wiki/Paul_the_Octopus\">\n",
    "اختاپوس پیشگو \n",
    "        </a>\n",
    "        را نشنیده باشد. \n",
    "        نحوه‌ی پیش‌گویی اختاپوس به صورتی بود که قبل از هر بازی، در مقابل او دو بسته‌ غذای کامل یکسان قرار می‌دادند. تنها تفاوت این بسته‌ها در پرچم تیم روی آن بود. اختاپوس هر یک از این بسته‌ها را که انتخاب می‌کرد، پیشگویی او به عنوان برنده‌ی بازی حساب می‌شد.\n",
    "        <br>\n",
    "        از ۱۴ پیش‌گویی اختاپوس، ۱۲ تای آنها درست از آب در آمد. می‌خواهیم آزمون فرضی ارائه بدهیم که امتحان کنیم آیا اختاپوس واقعا غیب‌گو بوده یا صرفا شانسش زیاد بوده \n",
    "     است.\n",
    "   </font>\n",
    "</div>\n",
    "    </font>\n",
    "</div>"
   ]
  },
  {
   "cell_type": "markdown",
   "metadata": {},
   "source": [
    "<div dir = \"rtl\" style=\"direction:rtl;line-height:300%;\">\n",
    "\t<font face=\"XB Zar\" size=5>\n",
    "\t\t<font color=#FF7500 size=6>\n",
    "        </font>\n",
    "\n",
    "الف) \n",
    "فرض صفر ما این است که حدس‌های اختاپوس شانسی بوده‌است. اگر هر پیشگویی را متغیر تصادفی برنولی و مجموعه‌ی ۱۴ پیش‌گویی او را متغیر تصادفی دوجمله‌ای ($n = 14$)  در نظر بگیریم، فرض صفر این است که\n",
    "\n",
    "$p = 0.5$.\n",
    "می‌خواهیم \n",
    "$p-value$\n",
    "متناسب با این فرض را محاسبه کنیم.\n",
    "<ul>\n",
    "        <li>\n",
    "    ۱۰۰۰۰ متغیر دو جمله‌ای با پارامترهای \n",
    "    $n = 14$\n",
    "    و \n",
    "    $p = 0.5$\n",
    "    تولید کنید. \n",
    "        </li>\n",
    "        </ul>\n",
    "\t</font>\n",
    "</div>"
   ]
  },
  {
   "cell_type": "markdown",
   "metadata": {},
   "source": [
    "<div dir = \"rtl\" style=\"direction:rtl;line-height:300%;\">\n",
    "\t<font face=\"XB Zar\" size=5>\n",
    "        <hr/>\n",
    "پاسخ:\n",
    "    </font>\n",
    "</div>"
   ]
  },
  {
   "cell_type": "code",
   "execution_count": 5,
   "metadata": {},
   "outputs": [],
   "source": [
    "samples = rbinom(10000,14,0.5)"
   ]
  },
  {
   "cell_type": "markdown",
   "metadata": {},
   "source": [
    "<div dir = \"rtl\" style=\"direction:rtl;line-height:300%;\">\n",
    "\t<font face=\"XB Zar\" size=5>\n",
    "    <ul>\n",
    "    <li>\n",
    "    برای هر یک از این متغیرها، تعداد پیش‌گویی های درست را بدست آورید. \n",
    "    </li>\n",
    "    </ul>\n",
    "                </font>\n",
    "</div>"
   ]
  },
  {
   "cell_type": "markdown",
   "metadata": {},
   "source": [
    "<div dir = \"rtl\" style=\"direction:rtl;line-height:300%;\">\n",
    "\t<font face=\"XB Zar\" size=5>\n",
    "        <hr/>\n",
    "پاسخ:\n",
    "    </font>\n",
    "</div>"
   ]
  },
  {
   "cell_type": "code",
   "execution_count": null,
   "metadata": {},
   "outputs": [],
   "source": []
  },
  {
   "cell_type": "markdown",
   "metadata": {},
   "source": [
    "<div dir = \"rtl\" style=\"direction:rtl;line-height:300%;\">\n",
    "\t<font face=\"XB Zar\" size=5>\n",
    "    <ul>\n",
    "    <li>\n",
    "با استفاده از مقادیری که در بخش قبل بدست آوردید، از این ۱۰۰۰۰ متغیر، تعداد متغیرهایی که حداقل به شدت پیشگویی اختاپوس هستند را بدست آورید.\n",
    "    </li>\n",
    "    </ul>\n",
    "                </font>\n",
    "</div>"
   ]
  },
  {
   "cell_type": "markdown",
   "metadata": {},
   "source": [
    "<div dir = \"rtl\" style=\"direction:rtl;line-height:300%;\">\n",
    "\t<font face=\"XB Zar\" size=5>\n",
    "        <hr/>\n",
    "پاسخ:\n",
    "    </font>\n",
    "</div>"
   ]
  },
  {
   "cell_type": "code",
   "execution_count": 6,
   "metadata": {},
   "outputs": [],
   "source": [
    "c = samples[samples >= 12]\n",
    "num = length(c)"
   ]
  },
  {
   "cell_type": "markdown",
   "metadata": {},
   "source": [
    "<div dir = \"rtl\" style=\"direction:rtl;line-height:300%;\">\n",
    "\t<font face=\"XB Zar\" size=5>\n",
    "    <ul>\n",
    "    <li>\n",
    "هیستوگرام تعداد پیش‌گویی‌هایی درست را رسم کنید. هم‌چنین در این نمودار، مقادیری که مربوط به بخش قبل می‌شوند (تعداد پیش‌گویی‌های درستی که بزرگتر مساوی تعداد پیش‌گویی‌های درست اختاپوس هستند) را متمایز کنید. \n",
    "    </li>\n",
    "    </ul>\n",
    "                </font>\n",
    "</div>"
   ]
  },
  {
   "cell_type": "markdown",
   "metadata": {},
   "source": [
    "<div dir = \"rtl\" style=\"direction:rtl;line-height:300%;\">\n",
    "\t<font face=\"XB Zar\" size=5>\n",
    "        <hr/>\n",
    "پاسخ:\n",
    "    </font>\n",
    "</div>"
   ]
  },
  {
   "cell_type": "code",
   "execution_count": 10,
   "metadata": {},
   "outputs": [
    {
     "data": {},
     "metadata": {},
     "output_type": "display_data"
    },
    {
     "data": {
      "image/png": "[encoded data removed]",
      "text/plain": [
       "plot without title"
      ]
     },
     "metadata": {},
     "output_type": "display_data"
    }
   ],
   "source": [
    "library(ggplot2)\n",
    "data <- data.frame(samples = samples)\n",
    "ggplot(as.data.frame(samples), aes(x=samples)) +\n",
    "  geom_histogram(binwidth = 1, fill=I('pink')) +\n",
    "  geom_vline(xintercept=12, color='blue', size=0.5) "
   ]
  },
  {
   "cell_type": "markdown",
   "metadata": {},
   "source": [
    "<div dir = \"rtl\" style=\"direction:rtl;line-height:300%;\">\n",
    "\t<font face=\"XB Zar\" size=5>\n",
    "    <ul>\n",
    "    <li>\n",
    "مقدار \n",
    "$p-value$\n",
    "را محاسبه کنید. چه نتیجه‌ای می‌گیرید؟   </li>\n",
    "    </ul>\n",
    "                </font>\n",
    "</div>"
   ]
  },
  {
   "cell_type": "markdown",
   "metadata": {},
   "source": [
    "<div dir = \"rtl\" style=\"direction:rtl;line-height:300%;\">\n",
    "\t<font face=\"XB Zar\" size=5>\n",
    "        <hr/>\n",
    "پاسخ:\n",
    "        نتیجه می گیریم چون p-value خیلی کم است فرض صفر رد می شود\n",
    "    </font>\n",
    "</div>"
   ]
  },
  {
   "cell_type": "code",
   "execution_count": 13,
   "metadata": {},
   "outputs": [
    {
     "name": "stdout",
     "output_type": "stream",
     "text": [
      "[1] 0.0068\n"
     ]
    }
   ],
   "source": [
    "pValue = length(c)/length(samples)\n",
    "print(pValue)"
   ]
  }
 ],
 "metadata": {
  "kernelspec": {
   "display_name": "R",
   "language": "R",
   "name": "ir"
  },
  "language_info": {
   "codemirror_mode": "r",
   "file_extension": ".r",
   "mimetype": "text/x-r-source",
   "name": "R",
   "pygments_lexer": "r",
   "version": "3.5.1"
  }
 },
 "nbformat": 4,
 "nbformat_minor": 2
}
